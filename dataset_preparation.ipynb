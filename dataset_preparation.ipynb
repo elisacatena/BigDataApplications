{
 "cells": [
  {
   "cell_type": "markdown",
   "metadata": {},
   "source": [
    "# Dataset Preparation"
   ]
  },
  {
   "cell_type": "markdown",
   "metadata": {},
   "source": [
    "## Let's now explore the stock infos"
   ]
  },
  {
   "cell_type": "code",
   "execution_count": 18,
   "metadata": {
    "_cell_guid": "b1076dfc-b9ad-4769-8c92-a6c4dae69d19",
    "_uuid": "8f2839f25d086af736a60e9eeb907d3b93b6e0e5"
   },
   "outputs": [],
   "source": [
    "import numpy as np\n",
    "import pandas as pd \n",
    "import matplotlib.pyplot as plt "
   ]
  },
  {
   "cell_type": "code",
   "execution_count": 19,
   "metadata": {
    "_cell_guid": "79c7e3d0-c299-4dcb-8224-4455121ee9b0",
    "_uuid": "d629ff2d2480ee46fbb7e2d37f6b5fab8052498a"
   },
   "outputs": [],
   "source": [
    "missing_values = [\"n/a\", \"na\", \"--\"]\n",
    "\n",
    "historical_stocks = pd.read_csv('/Users/elisacatena/Desktop/historical_stocks/historical_stocks.csv', na_values = missing_values)"
   ]
  },
  {
   "cell_type": "markdown",
   "metadata": {},
   "source": [
    "Let's start with a small preview of the dataframes."
   ]
  },
  {
   "cell_type": "code",
   "execution_count": 20,
   "metadata": {},
   "outputs": [
    {
     "data": {
      "text/html": [
       "<div>\n",
       "<style scoped>\n",
       "    .dataframe tbody tr th:only-of-type {\n",
       "        vertical-align: middle;\n",
       "    }\n",
       "\n",
       "    .dataframe tbody tr th {\n",
       "        vertical-align: top;\n",
       "    }\n",
       "\n",
       "    .dataframe thead th {\n",
       "        text-align: right;\n",
       "    }\n",
       "</style>\n",
       "<table border=\"1\" class=\"dataframe\">\n",
       "  <thead>\n",
       "    <tr style=\"text-align: right;\">\n",
       "      <th></th>\n",
       "      <th>ticker</th>\n",
       "      <th>exchange</th>\n",
       "      <th>name</th>\n",
       "      <th>sector</th>\n",
       "      <th>industry</th>\n",
       "    </tr>\n",
       "  </thead>\n",
       "  <tbody>\n",
       "    <tr>\n",
       "      <th>0</th>\n",
       "      <td>PIH</td>\n",
       "      <td>NASDAQ</td>\n",
       "      <td>1347 PROPERTY INSURANCE HOLDINGS, INC.</td>\n",
       "      <td>FINANCE</td>\n",
       "      <td>PROPERTY-CASUALTY INSURERS</td>\n",
       "    </tr>\n",
       "    <tr>\n",
       "      <th>1</th>\n",
       "      <td>PIHPP</td>\n",
       "      <td>NASDAQ</td>\n",
       "      <td>1347 PROPERTY INSURANCE HOLDINGS, INC.</td>\n",
       "      <td>FINANCE</td>\n",
       "      <td>PROPERTY-CASUALTY INSURERS</td>\n",
       "    </tr>\n",
       "    <tr>\n",
       "      <th>2</th>\n",
       "      <td>TURN</td>\n",
       "      <td>NASDAQ</td>\n",
       "      <td>180 DEGREE CAPITAL CORP.</td>\n",
       "      <td>FINANCE</td>\n",
       "      <td>FINANCE/INVESTORS SERVICES</td>\n",
       "    </tr>\n",
       "    <tr>\n",
       "      <th>3</th>\n",
       "      <td>FLWS</td>\n",
       "      <td>NASDAQ</td>\n",
       "      <td>1-800 FLOWERS.COM, INC.</td>\n",
       "      <td>CONSUMER SERVICES</td>\n",
       "      <td>OTHER SPECIALTY STORES</td>\n",
       "    </tr>\n",
       "    <tr>\n",
       "      <th>4</th>\n",
       "      <td>FCCY</td>\n",
       "      <td>NASDAQ</td>\n",
       "      <td>1ST CONSTITUTION BANCORP (NJ)</td>\n",
       "      <td>FINANCE</td>\n",
       "      <td>SAVINGS INSTITUTIONS</td>\n",
       "    </tr>\n",
       "  </tbody>\n",
       "</table>\n",
       "</div>"
      ],
      "text/plain": [
       "  ticker exchange                                    name             sector  \\\n",
       "0    PIH   NASDAQ  1347 PROPERTY INSURANCE HOLDINGS, INC.            FINANCE   \n",
       "1  PIHPP   NASDAQ  1347 PROPERTY INSURANCE HOLDINGS, INC.            FINANCE   \n",
       "2   TURN   NASDAQ                180 DEGREE CAPITAL CORP.            FINANCE   \n",
       "3   FLWS   NASDAQ                 1-800 FLOWERS.COM, INC.  CONSUMER SERVICES   \n",
       "4   FCCY   NASDAQ           1ST CONSTITUTION BANCORP (NJ)            FINANCE   \n",
       "\n",
       "                     industry  \n",
       "0  PROPERTY-CASUALTY INSURERS  \n",
       "1  PROPERTY-CASUALTY INSURERS  \n",
       "2  FINANCE/INVESTORS SERVICES  \n",
       "3      OTHER SPECIALTY STORES  \n",
       "4        SAVINGS INSTITUTIONS  "
      ]
     },
     "execution_count": 20,
     "metadata": {},
     "output_type": "execute_result"
    }
   ],
   "source": [
    "historical_stocks.head()"
   ]
  },
  {
   "cell_type": "code",
   "execution_count": 21,
   "metadata": {},
   "outputs": [
    {
     "data": {
      "text/html": [
       "<div>\n",
       "<style scoped>\n",
       "    .dataframe tbody tr th:only-of-type {\n",
       "        vertical-align: middle;\n",
       "    }\n",
       "\n",
       "    .dataframe tbody tr th {\n",
       "        vertical-align: top;\n",
       "    }\n",
       "\n",
       "    .dataframe thead th {\n",
       "        text-align: right;\n",
       "    }\n",
       "</style>\n",
       "<table border=\"1\" class=\"dataframe\">\n",
       "  <thead>\n",
       "    <tr style=\"text-align: right;\">\n",
       "      <th></th>\n",
       "      <th>ticker</th>\n",
       "      <th>exchange</th>\n",
       "      <th>name</th>\n",
       "      <th>sector</th>\n",
       "      <th>industry</th>\n",
       "    </tr>\n",
       "  </thead>\n",
       "  <tbody>\n",
       "    <tr>\n",
       "      <th>count</th>\n",
       "      <td>6460</td>\n",
       "      <td>6460</td>\n",
       "      <td>6460</td>\n",
       "      <td>5020</td>\n",
       "      <td>5020</td>\n",
       "    </tr>\n",
       "    <tr>\n",
       "      <th>unique</th>\n",
       "      <td>6460</td>\n",
       "      <td>2</td>\n",
       "      <td>5462</td>\n",
       "      <td>13</td>\n",
       "      <td>136</td>\n",
       "    </tr>\n",
       "    <tr>\n",
       "      <th>top</th>\n",
       "      <td>PIH</td>\n",
       "      <td>NASDAQ</td>\n",
       "      <td>BANK OF AMERICA CORPORATION</td>\n",
       "      <td>FINANCE</td>\n",
       "      <td>MAJOR PHARMACEUTICALS</td>\n",
       "    </tr>\n",
       "    <tr>\n",
       "      <th>freq</th>\n",
       "      <td>1</td>\n",
       "      <td>3308</td>\n",
       "      <td>16</td>\n",
       "      <td>1022</td>\n",
       "      <td>419</td>\n",
       "    </tr>\n",
       "  </tbody>\n",
       "</table>\n",
       "</div>"
      ],
      "text/plain": [
       "       ticker exchange                         name   sector  \\\n",
       "count    6460     6460                         6460     5020   \n",
       "unique   6460        2                         5462       13   \n",
       "top       PIH   NASDAQ  BANK OF AMERICA CORPORATION  FINANCE   \n",
       "freq        1     3308                           16     1022   \n",
       "\n",
       "                     industry  \n",
       "count                    5020  \n",
       "unique                    136  \n",
       "top     MAJOR PHARMACEUTICALS  \n",
       "freq                      419  "
      ]
     },
     "execution_count": 21,
     "metadata": {},
     "output_type": "execute_result"
    }
   ],
   "source": [
    "historical_stocks.describe()"
   ]
  },
  {
   "cell_type": "markdown",
   "metadata": {},
   "source": [
    "We realize that there are 5 columns in the historical_stocks dataset:\n",
    "\n",
    "- 'ticker' corresponds to the name of the share\n",
    "- 'exchange' corresponds to the type of exchange made \n",
    "- 'name' refers the company's name\n",
    "- 'sector' refers to the actual sector where the given company operates\n",
    "- 'industry' specifies the type of services that can be provided\n"
   ]
  },
  {
   "cell_type": "markdown",
   "metadata": {},
   "source": [
    "### Missing values treatment\n",
    "We want all rows that present null values."
   ]
  },
  {
   "cell_type": "code",
   "execution_count": 22,
   "metadata": {},
   "outputs": [
    {
     "data": {
      "text/html": [
       "<div>\n",
       "<style scoped>\n",
       "    .dataframe tbody tr th:only-of-type {\n",
       "        vertical-align: middle;\n",
       "    }\n",
       "\n",
       "    .dataframe tbody tr th {\n",
       "        vertical-align: top;\n",
       "    }\n",
       "\n",
       "    .dataframe thead th {\n",
       "        text-align: right;\n",
       "    }\n",
       "</style>\n",
       "<table border=\"1\" class=\"dataframe\">\n",
       "  <thead>\n",
       "    <tr style=\"text-align: right;\">\n",
       "      <th></th>\n",
       "      <th>ticker</th>\n",
       "      <th>exchange</th>\n",
       "      <th>name</th>\n",
       "      <th>sector</th>\n",
       "      <th>industry</th>\n",
       "    </tr>\n",
       "  </thead>\n",
       "  <tbody>\n",
       "    <tr>\n",
       "      <th>19</th>\n",
       "      <td>ABP</td>\n",
       "      <td>NASDAQ</td>\n",
       "      <td>ABPRO CORPORATION</td>\n",
       "      <td>NaN</td>\n",
       "      <td>NaN</td>\n",
       "    </tr>\n",
       "    <tr>\n",
       "      <th>42</th>\n",
       "      <td>SQZZ</td>\n",
       "      <td>NASDAQ</td>\n",
       "      <td>ACTIVE ALTS CONTRARIAN ETF</td>\n",
       "      <td>NaN</td>\n",
       "      <td>NaN</td>\n",
       "    </tr>\n",
       "    <tr>\n",
       "      <th>62</th>\n",
       "      <td>ACT</td>\n",
       "      <td>NASDAQ</td>\n",
       "      <td>ADVISORSHARES VICE ETF</td>\n",
       "      <td>NaN</td>\n",
       "      <td>NaN</td>\n",
       "    </tr>\n",
       "    <tr>\n",
       "      <th>100</th>\n",
       "      <td>ABDC</td>\n",
       "      <td>NASDAQ</td>\n",
       "      <td>ALCENTRA CAPITAL CORP.</td>\n",
       "      <td>NaN</td>\n",
       "      <td>NaN</td>\n",
       "    </tr>\n",
       "    <tr>\n",
       "      <th>124</th>\n",
       "      <td>SMCP</td>\n",
       "      <td>NASDAQ</td>\n",
       "      <td>ALPHAMARK ACTIVELY MANAGED SMALL CAP ETF</td>\n",
       "      <td>NaN</td>\n",
       "      <td>NaN</td>\n",
       "    </tr>\n",
       "    <tr>\n",
       "      <th>...</th>\n",
       "      <td>...</td>\n",
       "      <td>...</td>\n",
       "      <td>...</td>\n",
       "      <td>...</td>\n",
       "      <td>...</td>\n",
       "    </tr>\n",
       "    <tr>\n",
       "      <th>6393</th>\n",
       "      <td>WIA</td>\n",
       "      <td>NYSE</td>\n",
       "      <td>WESTERN ASSET/CLAYMORE U.S. TREASURY INFLATION...</td>\n",
       "      <td>NaN</td>\n",
       "      <td>NaN</td>\n",
       "    </tr>\n",
       "    <tr>\n",
       "      <th>6431</th>\n",
       "      <td>XFLT</td>\n",
       "      <td>NYSE</td>\n",
       "      <td>XAI OCTAGON FLOATING RATE &amp; ALTERNATIVE INCOME...</td>\n",
       "      <td>NaN</td>\n",
       "      <td>NaN</td>\n",
       "    </tr>\n",
       "    <tr>\n",
       "      <th>6451</th>\n",
       "      <td>ZB^A</td>\n",
       "      <td>NYSE</td>\n",
       "      <td>ZIONS BANCORPORATION</td>\n",
       "      <td>NaN</td>\n",
       "      <td>NaN</td>\n",
       "    </tr>\n",
       "    <tr>\n",
       "      <th>6452</th>\n",
       "      <td>ZB^G</td>\n",
       "      <td>NYSE</td>\n",
       "      <td>ZIONS BANCORPORATION</td>\n",
       "      <td>NaN</td>\n",
       "      <td>NaN</td>\n",
       "    </tr>\n",
       "    <tr>\n",
       "      <th>6453</th>\n",
       "      <td>ZB^H</td>\n",
       "      <td>NYSE</td>\n",
       "      <td>ZIONS BANCORPORATION</td>\n",
       "      <td>NaN</td>\n",
       "      <td>NaN</td>\n",
       "    </tr>\n",
       "  </tbody>\n",
       "</table>\n",
       "<p>1440 rows × 5 columns</p>\n",
       "</div>"
      ],
      "text/plain": [
       "     ticker exchange                                               name  \\\n",
       "19      ABP   NASDAQ                                  ABPRO CORPORATION   \n",
       "42     SQZZ   NASDAQ                         ACTIVE ALTS CONTRARIAN ETF   \n",
       "62      ACT   NASDAQ                             ADVISORSHARES VICE ETF   \n",
       "100    ABDC   NASDAQ                             ALCENTRA CAPITAL CORP.   \n",
       "124    SMCP   NASDAQ           ALPHAMARK ACTIVELY MANAGED SMALL CAP ETF   \n",
       "...     ...      ...                                                ...   \n",
       "6393    WIA     NYSE  WESTERN ASSET/CLAYMORE U.S. TREASURY INFLATION...   \n",
       "6431   XFLT     NYSE  XAI OCTAGON FLOATING RATE & ALTERNATIVE INCOME...   \n",
       "6451   ZB^A     NYSE                               ZIONS BANCORPORATION   \n",
       "6452   ZB^G     NYSE                               ZIONS BANCORPORATION   \n",
       "6453   ZB^H     NYSE                               ZIONS BANCORPORATION   \n",
       "\n",
       "     sector industry  \n",
       "19      NaN      NaN  \n",
       "42      NaN      NaN  \n",
       "62      NaN      NaN  \n",
       "100     NaN      NaN  \n",
       "124     NaN      NaN  \n",
       "...     ...      ...  \n",
       "6393    NaN      NaN  \n",
       "6431    NaN      NaN  \n",
       "6451    NaN      NaN  \n",
       "6452    NaN      NaN  \n",
       "6453    NaN      NaN  \n",
       "\n",
       "[1440 rows x 5 columns]"
      ]
     },
     "execution_count": 22,
     "metadata": {},
     "output_type": "execute_result"
    }
   ],
   "source": [
    "null_data = historical_stocks[historical_stocks.isnull().any(axis=1)]\n",
    "null_data"
   ]
  },
  {
   "cell_type": "markdown",
   "metadata": {},
   "source": [
    "We realize that, by standard, all rows that do not have sector, do not have industry either and vice-versa."
   ]
  },
  {
   "cell_type": "markdown",
   "metadata": {},
   "source": [
    "#### The first step is to identify if the companies switched their share name; in case they did, they can then contain the sector and industry present on another row\n",
    "\n",
    "Right now we have the following missing values:\n",
    "\n",
    "1. ticker         0\n",
    "2. exchange       0\n",
    "3. name           0\n",
    "4. sector      1440\n",
    "5. industry    1440"
   ]
  },
  {
   "cell_type": "markdown",
   "metadata": {},
   "source": [
    "### This function checks for companies that changed their ticker name\n",
    "\n",
    "If any did, we check if there are some other instances of that same company where the sector and industry information is present."
   ]
  },
  {
   "cell_type": "code",
   "execution_count": 23,
   "metadata": {},
   "outputs": [],
   "source": [
    "pd.options.mode.chained_assignment = None\n",
    "\n",
    "# Extract all unique values from the 'name' column\n",
    "names = null_data['name'].unique()\n",
    "\n",
    "for companie in names:\n",
    "    \n",
    "    # Extract the subset of data whose value in the 'name' column matches the company name currently considered in the loop.\n",
    "    data = historical_stocks[historical_stocks['name'] == companie]\n",
    "    \n",
    "    for index,row in data.iterrows():\n",
    "        \n",
    "        # If the value in the 'sector' column of the currently considered row is not null\n",
    "        if(not pd.isnull(row['sector'])):\n",
    "            \n",
    "            # Save the values in the 'sector' and 'industry' column \n",
    "            sector = row['sector']\n",
    "            industry = row['industry']\n",
    "            \n",
    "            # Replace the missing values in the 'industry' and 'sector' column\n",
    "            tmp = historical_stocks[historical_stocks['name'] == row['name']]\n",
    "            tmp[\"sector\"] = tmp[\"sector\"].fillna(sector)\n",
    "            tmp['industry'] = tmp['industry'].fillna(industry)\n",
    "            historical_stocks[historical_stocks['name'] == row['name']] = tmp\n"
   ]
  },
  {
   "cell_type": "code",
   "execution_count": 24,
   "metadata": {},
   "outputs": [
    {
     "data": {
      "text/plain": [
       "ticker         0\n",
       "exchange       0\n",
       "name           0\n",
       "sector      1018\n",
       "industry    1018\n",
       "dtype: int64"
      ]
     },
     "execution_count": 24,
     "metadata": {},
     "output_type": "execute_result"
    }
   ],
   "source": [
    "historical_stocks.isnull().sum()"
   ]
  },
  {
   "cell_type": "markdown",
   "metadata": {},
   "source": [
    "After this operation, we have different numbers of missing values, respectively:\n",
    "\n",
    "1. ticker         0\n",
    "2. exchange       0\n",
    "3. name           0\n",
    "4. sector      1018\n",
    "5. industry    1018\n",
    "6. dtype: int64"
   ]
  },
  {
   "cell_type": "markdown",
   "metadata": {},
   "source": [
    "### In this part, all remaining missing values will be removed from the dataset, mainly for the reason that there is not sufficient information that allows us to fill these values, given the variety of sector and industries existant."
   ]
  },
  {
   "cell_type": "code",
   "execution_count": 25,
   "metadata": {},
   "outputs": [
    {
     "data": {
      "text/plain": [
       "ticker      0\n",
       "exchange    0\n",
       "name        0\n",
       "sector      0\n",
       "industry    0\n",
       "dtype: int64"
      ]
     },
     "execution_count": 25,
     "metadata": {},
     "output_type": "execute_result"
    }
   ],
   "source": [
    "bad_tickers = historical_stocks[historical_stocks.isnull().any(axis=1)]\n",
    "\n",
    "\n",
    "historical_stocks = historical_stocks.dropna(how='any',axis=0) \n",
    "historical_stocks.isnull().sum()"
   ]
  },
  {
   "cell_type": "code",
   "execution_count": 26,
   "metadata": {},
   "outputs": [
    {
     "data": {
      "text/html": [
       "<div>\n",
       "<style scoped>\n",
       "    .dataframe tbody tr th:only-of-type {\n",
       "        vertical-align: middle;\n",
       "    }\n",
       "\n",
       "    .dataframe tbody tr th {\n",
       "        vertical-align: top;\n",
       "    }\n",
       "\n",
       "    .dataframe thead th {\n",
       "        text-align: right;\n",
       "    }\n",
       "</style>\n",
       "<table border=\"1\" class=\"dataframe\">\n",
       "  <thead>\n",
       "    <tr style=\"text-align: right;\">\n",
       "      <th></th>\n",
       "      <th>ticker</th>\n",
       "      <th>exchange</th>\n",
       "      <th>name</th>\n",
       "      <th>sector</th>\n",
       "      <th>industry</th>\n",
       "    </tr>\n",
       "  </thead>\n",
       "  <tbody>\n",
       "    <tr>\n",
       "      <th>19</th>\n",
       "      <td>ABP</td>\n",
       "      <td>NASDAQ</td>\n",
       "      <td>ABPRO CORPORATION</td>\n",
       "      <td>NaN</td>\n",
       "      <td>NaN</td>\n",
       "    </tr>\n",
       "    <tr>\n",
       "      <th>42</th>\n",
       "      <td>SQZZ</td>\n",
       "      <td>NASDAQ</td>\n",
       "      <td>ACTIVE ALTS CONTRARIAN ETF</td>\n",
       "      <td>NaN</td>\n",
       "      <td>NaN</td>\n",
       "    </tr>\n",
       "    <tr>\n",
       "      <th>62</th>\n",
       "      <td>ACT</td>\n",
       "      <td>NASDAQ</td>\n",
       "      <td>ADVISORSHARES VICE ETF</td>\n",
       "      <td>NaN</td>\n",
       "      <td>NaN</td>\n",
       "    </tr>\n",
       "    <tr>\n",
       "      <th>100</th>\n",
       "      <td>ABDC</td>\n",
       "      <td>NASDAQ</td>\n",
       "      <td>ALCENTRA CAPITAL CORP.</td>\n",
       "      <td>NaN</td>\n",
       "      <td>NaN</td>\n",
       "    </tr>\n",
       "    <tr>\n",
       "      <th>124</th>\n",
       "      <td>SMCP</td>\n",
       "      <td>NASDAQ</td>\n",
       "      <td>ALPHAMARK ACTIVELY MANAGED SMALL CAP ETF</td>\n",
       "      <td>NaN</td>\n",
       "      <td>NaN</td>\n",
       "    </tr>\n",
       "    <tr>\n",
       "      <th>...</th>\n",
       "      <td>...</td>\n",
       "      <td>...</td>\n",
       "      <td>...</td>\n",
       "      <td>...</td>\n",
       "      <td>...</td>\n",
       "    </tr>\n",
       "    <tr>\n",
       "      <th>6390</th>\n",
       "      <td>MNP</td>\n",
       "      <td>NYSE</td>\n",
       "      <td>WESTERN ASSET MUNICIPAL PARTNERS FUND, INC.</td>\n",
       "      <td>NaN</td>\n",
       "      <td>NaN</td>\n",
       "    </tr>\n",
       "    <tr>\n",
       "      <th>6391</th>\n",
       "      <td>GFY</td>\n",
       "      <td>NYSE</td>\n",
       "      <td>WESTERN ASSET VARIABLE RATE STRATEGIC FUND INC.</td>\n",
       "      <td>NaN</td>\n",
       "      <td>NaN</td>\n",
       "    </tr>\n",
       "    <tr>\n",
       "      <th>6392</th>\n",
       "      <td>WIW</td>\n",
       "      <td>NYSE</td>\n",
       "      <td>WESTERN ASSET/CLAYMORE U.S TREASURY INFLATION ...</td>\n",
       "      <td>NaN</td>\n",
       "      <td>NaN</td>\n",
       "    </tr>\n",
       "    <tr>\n",
       "      <th>6393</th>\n",
       "      <td>WIA</td>\n",
       "      <td>NYSE</td>\n",
       "      <td>WESTERN ASSET/CLAYMORE U.S. TREASURY INFLATION...</td>\n",
       "      <td>NaN</td>\n",
       "      <td>NaN</td>\n",
       "    </tr>\n",
       "    <tr>\n",
       "      <th>6431</th>\n",
       "      <td>XFLT</td>\n",
       "      <td>NYSE</td>\n",
       "      <td>XAI OCTAGON FLOATING RATE &amp; ALTERNATIVE INCOME...</td>\n",
       "      <td>NaN</td>\n",
       "      <td>NaN</td>\n",
       "    </tr>\n",
       "  </tbody>\n",
       "</table>\n",
       "<p>1018 rows × 5 columns</p>\n",
       "</div>"
      ],
      "text/plain": [
       "     ticker exchange                                               name  \\\n",
       "19      ABP   NASDAQ                                  ABPRO CORPORATION   \n",
       "42     SQZZ   NASDAQ                         ACTIVE ALTS CONTRARIAN ETF   \n",
       "62      ACT   NASDAQ                             ADVISORSHARES VICE ETF   \n",
       "100    ABDC   NASDAQ                             ALCENTRA CAPITAL CORP.   \n",
       "124    SMCP   NASDAQ           ALPHAMARK ACTIVELY MANAGED SMALL CAP ETF   \n",
       "...     ...      ...                                                ...   \n",
       "6390    MNP     NYSE        WESTERN ASSET MUNICIPAL PARTNERS FUND, INC.   \n",
       "6391    GFY     NYSE    WESTERN ASSET VARIABLE RATE STRATEGIC FUND INC.   \n",
       "6392    WIW     NYSE  WESTERN ASSET/CLAYMORE U.S TREASURY INFLATION ...   \n",
       "6393    WIA     NYSE  WESTERN ASSET/CLAYMORE U.S. TREASURY INFLATION...   \n",
       "6431   XFLT     NYSE  XAI OCTAGON FLOATING RATE & ALTERNATIVE INCOME...   \n",
       "\n",
       "     sector industry  \n",
       "19      NaN      NaN  \n",
       "42      NaN      NaN  \n",
       "62      NaN      NaN  \n",
       "100     NaN      NaN  \n",
       "124     NaN      NaN  \n",
       "...     ...      ...  \n",
       "6390    NaN      NaN  \n",
       "6391    NaN      NaN  \n",
       "6392    NaN      NaN  \n",
       "6393    NaN      NaN  \n",
       "6431    NaN      NaN  \n",
       "\n",
       "[1018 rows x 5 columns]"
      ]
     },
     "execution_count": 26,
     "metadata": {},
     "output_type": "execute_result"
    }
   ],
   "source": [
    "bad_tickers"
   ]
  },
  {
   "cell_type": "code",
   "execution_count": 27,
   "metadata": {},
   "outputs": [
    {
     "data": {
      "text/plain": [
       "1018"
      ]
     },
     "execution_count": 27,
     "metadata": {},
     "output_type": "execute_result"
    }
   ],
   "source": [
    "bad_tickers[\"ticker\"].unique().size"
   ]
  },
  {
   "cell_type": "markdown",
   "metadata": {},
   "source": [
    "Now we only have 5442 tickers"
   ]
  },
  {
   "cell_type": "code",
   "execution_count": 28,
   "metadata": {},
   "outputs": [
    {
     "data": {
      "text/plain": [
       "5442"
      ]
     },
     "execution_count": 28,
     "metadata": {},
     "output_type": "execute_result"
    }
   ],
   "source": [
    "historical_stocks['ticker'].unique().size"
   ]
  },
  {
   "cell_type": "code",
   "execution_count": 29,
   "metadata": {},
   "outputs": [],
   "source": [
    "historical_stocks.to_csv(\"/Users/elisacatena/Desktop/historical_stocks.csv\", index=False)"
   ]
  },
  {
   "cell_type": "markdown",
   "metadata": {},
   "source": [
    "## Let's now explore the stock prices"
   ]
  },
  {
   "cell_type": "code",
   "execution_count": 30,
   "metadata": {},
   "outputs": [],
   "source": [
    "historical_stock_prices = pd.read_csv('/Users/elisacatena/Desktop/historical_stocks/historical_stock_prices.csv', na_values = missing_values)"
   ]
  },
  {
   "cell_type": "code",
   "execution_count": 31,
   "metadata": {},
   "outputs": [
    {
     "data": {
      "text/html": [
       "<div>\n",
       "<style scoped>\n",
       "    .dataframe tbody tr th:only-of-type {\n",
       "        vertical-align: middle;\n",
       "    }\n",
       "\n",
       "    .dataframe tbody tr th {\n",
       "        vertical-align: top;\n",
       "    }\n",
       "\n",
       "    .dataframe thead th {\n",
       "        text-align: right;\n",
       "    }\n",
       "</style>\n",
       "<table border=\"1\" class=\"dataframe\">\n",
       "  <thead>\n",
       "    <tr style=\"text-align: right;\">\n",
       "      <th></th>\n",
       "      <th>ticker</th>\n",
       "      <th>open</th>\n",
       "      <th>close</th>\n",
       "      <th>adj_close</th>\n",
       "      <th>low</th>\n",
       "      <th>high</th>\n",
       "      <th>volume</th>\n",
       "      <th>date</th>\n",
       "    </tr>\n",
       "  </thead>\n",
       "  <tbody>\n",
       "    <tr>\n",
       "      <th>0</th>\n",
       "      <td>AHH</td>\n",
       "      <td>11.50</td>\n",
       "      <td>11.58</td>\n",
       "      <td>8.493155</td>\n",
       "      <td>11.25</td>\n",
       "      <td>11.68</td>\n",
       "      <td>4633900</td>\n",
       "      <td>2013-05-08</td>\n",
       "    </tr>\n",
       "    <tr>\n",
       "      <th>1</th>\n",
       "      <td>AHH</td>\n",
       "      <td>11.66</td>\n",
       "      <td>11.55</td>\n",
       "      <td>8.471151</td>\n",
       "      <td>11.50</td>\n",
       "      <td>11.66</td>\n",
       "      <td>275800</td>\n",
       "      <td>2013-05-09</td>\n",
       "    </tr>\n",
       "    <tr>\n",
       "      <th>2</th>\n",
       "      <td>AHH</td>\n",
       "      <td>11.55</td>\n",
       "      <td>11.60</td>\n",
       "      <td>8.507822</td>\n",
       "      <td>11.50</td>\n",
       "      <td>11.60</td>\n",
       "      <td>277100</td>\n",
       "      <td>2013-05-10</td>\n",
       "    </tr>\n",
       "    <tr>\n",
       "      <th>3</th>\n",
       "      <td>AHH</td>\n",
       "      <td>11.63</td>\n",
       "      <td>11.65</td>\n",
       "      <td>8.544494</td>\n",
       "      <td>11.55</td>\n",
       "      <td>11.65</td>\n",
       "      <td>147400</td>\n",
       "      <td>2013-05-13</td>\n",
       "    </tr>\n",
       "    <tr>\n",
       "      <th>4</th>\n",
       "      <td>AHH</td>\n",
       "      <td>11.60</td>\n",
       "      <td>11.53</td>\n",
       "      <td>8.456484</td>\n",
       "      <td>11.50</td>\n",
       "      <td>11.60</td>\n",
       "      <td>184100</td>\n",
       "      <td>2013-05-14</td>\n",
       "    </tr>\n",
       "  </tbody>\n",
       "</table>\n",
       "</div>"
      ],
      "text/plain": [
       "  ticker   open  close  adj_close    low   high   volume        date\n",
       "0    AHH  11.50  11.58   8.493155  11.25  11.68  4633900  2013-05-08\n",
       "1    AHH  11.66  11.55   8.471151  11.50  11.66   275800  2013-05-09\n",
       "2    AHH  11.55  11.60   8.507822  11.50  11.60   277100  2013-05-10\n",
       "3    AHH  11.63  11.65   8.544494  11.55  11.65   147400  2013-05-13\n",
       "4    AHH  11.60  11.53   8.456484  11.50  11.60   184100  2013-05-14"
      ]
     },
     "execution_count": 31,
     "metadata": {},
     "output_type": "execute_result"
    }
   ],
   "source": [
    "historical_stock_prices.head()"
   ]
  },
  {
   "cell_type": "code",
   "execution_count": 32,
   "metadata": {},
   "outputs": [
    {
     "data": {
      "text/html": [
       "<div>\n",
       "<style scoped>\n",
       "    .dataframe tbody tr th:only-of-type {\n",
       "        vertical-align: middle;\n",
       "    }\n",
       "\n",
       "    .dataframe tbody tr th {\n",
       "        vertical-align: top;\n",
       "    }\n",
       "\n",
       "    .dataframe thead th {\n",
       "        text-align: right;\n",
       "    }\n",
       "</style>\n",
       "<table border=\"1\" class=\"dataframe\">\n",
       "  <thead>\n",
       "    <tr style=\"text-align: right;\">\n",
       "      <th></th>\n",
       "      <th>open</th>\n",
       "      <th>close</th>\n",
       "      <th>adj_close</th>\n",
       "      <th>low</th>\n",
       "      <th>high</th>\n",
       "      <th>volume</th>\n",
       "    </tr>\n",
       "  </thead>\n",
       "  <tbody>\n",
       "    <tr>\n",
       "      <th>count</th>\n",
       "      <td>2.097389e+07</td>\n",
       "      <td>2.097389e+07</td>\n",
       "      <td>2.097389e+07</td>\n",
       "      <td>2.097389e+07</td>\n",
       "      <td>2.097389e+07</td>\n",
       "      <td>2.097389e+07</td>\n",
       "    </tr>\n",
       "    <tr>\n",
       "      <th>mean</th>\n",
       "      <td>7.605823e+01</td>\n",
       "      <td>7.611403e+01</td>\n",
       "      <td>1.481184e+14</td>\n",
       "      <td>7.422064e+01</td>\n",
       "      <td>7.803857e+01</td>\n",
       "      <td>1.227043e+06</td>\n",
       "    </tr>\n",
       "    <tr>\n",
       "      <th>std</th>\n",
       "      <td>2.849639e+03</td>\n",
       "      <td>2.870159e+03</td>\n",
       "      <td>4.574674e+16</td>\n",
       "      <td>2.746059e+03</td>\n",
       "      <td>2.997937e+03</td>\n",
       "      <td>1.316686e+07</td>\n",
       "    </tr>\n",
       "    <tr>\n",
       "      <th>min</th>\n",
       "      <td>4.000000e-04</td>\n",
       "      <td>2.000000e-04</td>\n",
       "      <td>2.282650e-09</td>\n",
       "      <td>1.000000e-04</td>\n",
       "      <td>4.000000e-04</td>\n",
       "      <td>1.000000e+00</td>\n",
       "    </tr>\n",
       "    <tr>\n",
       "      <th>25%</th>\n",
       "      <td>7.500000e+00</td>\n",
       "      <td>7.500000e+00</td>\n",
       "      <td>4.620000e+00</td>\n",
       "      <td>7.360000e+00</td>\n",
       "      <td>7.630000e+00</td>\n",
       "      <td>2.210000e+04</td>\n",
       "    </tr>\n",
       "    <tr>\n",
       "      <th>50%</th>\n",
       "      <td>1.545000e+01</td>\n",
       "      <td>1.545000e+01</td>\n",
       "      <td>1.138199e+01</td>\n",
       "      <td>1.524000e+01</td>\n",
       "      <td>1.566000e+01</td>\n",
       "      <td>1.260000e+05</td>\n",
       "    </tr>\n",
       "    <tr>\n",
       "      <th>75%</th>\n",
       "      <td>2.972000e+01</td>\n",
       "      <td>2.972000e+01</td>\n",
       "      <td>2.472046e+01</td>\n",
       "      <td>2.928000e+01</td>\n",
       "      <td>3.010000e+01</td>\n",
       "      <td>6.074000e+05</td>\n",
       "    </tr>\n",
       "    <tr>\n",
       "      <th>max</th>\n",
       "      <td>2.034000e+06</td>\n",
       "      <td>1.779750e+06</td>\n",
       "      <td>1.894962e+19</td>\n",
       "      <td>1.440000e+06</td>\n",
       "      <td>2.070000e+06</td>\n",
       "      <td>4.483504e+09</td>\n",
       "    </tr>\n",
       "  </tbody>\n",
       "</table>\n",
       "</div>"
      ],
      "text/plain": [
       "               open         close     adj_close           low          high  \\\n",
       "count  2.097389e+07  2.097389e+07  2.097389e+07  2.097389e+07  2.097389e+07   \n",
       "mean   7.605823e+01  7.611403e+01  1.481184e+14  7.422064e+01  7.803857e+01   \n",
       "std    2.849639e+03  2.870159e+03  4.574674e+16  2.746059e+03  2.997937e+03   \n",
       "min    4.000000e-04  2.000000e-04  2.282650e-09  1.000000e-04  4.000000e-04   \n",
       "25%    7.500000e+00  7.500000e+00  4.620000e+00  7.360000e+00  7.630000e+00   \n",
       "50%    1.545000e+01  1.545000e+01  1.138199e+01  1.524000e+01  1.566000e+01   \n",
       "75%    2.972000e+01  2.972000e+01  2.472046e+01  2.928000e+01  3.010000e+01   \n",
       "max    2.034000e+06  1.779750e+06  1.894962e+19  1.440000e+06  2.070000e+06   \n",
       "\n",
       "             volume  \n",
       "count  2.097389e+07  \n",
       "mean   1.227043e+06  \n",
       "std    1.316686e+07  \n",
       "min    1.000000e+00  \n",
       "25%    2.210000e+04  \n",
       "50%    1.260000e+05  \n",
       "75%    6.074000e+05  \n",
       "max    4.483504e+09  "
      ]
     },
     "execution_count": 32,
     "metadata": {},
     "output_type": "execute_result"
    }
   ],
   "source": [
    "historical_stock_prices.describe()"
   ]
  },
  {
   "cell_type": "markdown",
   "metadata": {},
   "source": [
    "We realize that there are 5 columns in the historical_stock_prices dataset:\n",
    "\n",
    "- 'ticker' corresponds to the name of the share\n",
    "- 'open' describe the open price of that share in a specific day\n",
    "- 'close' describe the final share price in the end of a day\n",
    "- 'adj-close' it´s a tricky column, describes the ajudsted price of a share, thats normally different from the close price\n",
    "- 'low' is the lowest value paid for that share\n",
    "- 'high' is the highest value paid for that share\n",
    "- 'volume' of shares purchased in that day\n",
    "- 'date' represents the date (year-month-day)"
   ]
  },
  {
   "cell_type": "markdown",
   "metadata": {},
   "source": [
    "### Missing values treatment\n",
    "We want all rows that present null values."
   ]
  },
  {
   "cell_type": "code",
   "execution_count": 33,
   "metadata": {},
   "outputs": [
    {
     "data": {
      "text/plain": [
       "ticker       0\n",
       "open         0\n",
       "close        0\n",
       "adj_close    0\n",
       "low          0\n",
       "high         0\n",
       "volume       0\n",
       "date         0\n",
       "dtype: int64"
      ]
     },
     "execution_count": 33,
     "metadata": {},
     "output_type": "execute_result"
    }
   ],
   "source": [
    "historical_stock_prices.isnull().sum()"
   ]
  },
  {
   "cell_type": "code",
   "execution_count": 34,
   "metadata": {},
   "outputs": [
    {
     "data": {
      "text/html": [
       "<div>\n",
       "<style scoped>\n",
       "    .dataframe tbody tr th:only-of-type {\n",
       "        vertical-align: middle;\n",
       "    }\n",
       "\n",
       "    .dataframe tbody tr th {\n",
       "        vertical-align: top;\n",
       "    }\n",
       "\n",
       "    .dataframe thead th {\n",
       "        text-align: right;\n",
       "    }\n",
       "</style>\n",
       "<table border=\"1\" class=\"dataframe\">\n",
       "  <thead>\n",
       "    <tr style=\"text-align: right;\">\n",
       "      <th></th>\n",
       "      <th>ticker</th>\n",
       "      <th>open</th>\n",
       "      <th>close</th>\n",
       "      <th>adj_close</th>\n",
       "      <th>low</th>\n",
       "      <th>high</th>\n",
       "      <th>volume</th>\n",
       "      <th>date</th>\n",
       "    </tr>\n",
       "  </thead>\n",
       "  <tbody>\n",
       "  </tbody>\n",
       "</table>\n",
       "</div>"
      ],
      "text/plain": [
       "Empty DataFrame\n",
       "Columns: [ticker, open, close, adj_close, low, high, volume, date]\n",
       "Index: []"
      ]
     },
     "execution_count": 34,
     "metadata": {},
     "output_type": "execute_result"
    }
   ],
   "source": [
    "null_data = historical_stock_prices[historical_stock_prices.isnull().any(axis=1)]\n",
    "null_data"
   ]
  },
  {
   "cell_type": "markdown",
   "metadata": {},
   "source": [
    "As we can notice, this dataset doesn't contain any missing value"
   ]
  },
  {
   "cell_type": "code",
   "execution_count": 35,
   "metadata": {},
   "outputs": [
    {
     "data": {
      "text/plain": [
       "5685"
      ]
     },
     "execution_count": 35,
     "metadata": {},
     "output_type": "execute_result"
    }
   ],
   "source": [
    "historical_stock_prices[\"ticker\"].unique().size"
   ]
  },
  {
   "cell_type": "markdown",
   "metadata": {},
   "source": [
    "In this dataset we have 5685 different tickers, in the previous dataset we had 5441 tickers, so we have to eliminate some tickers here."
   ]
  },
  {
   "cell_type": "code",
   "execution_count": 36,
   "metadata": {},
   "outputs": [],
   "source": [
    "pd.options.mode.chained_assignment = None\n",
    "tickers = bad_tickers['ticker'].unique()\n",
    "\n",
    "ind = []\n",
    "\n",
    "for index, row in historical_stock_prices.iterrows():\n",
    "    if(row['ticker'] in tickers):\n",
    "        ind.append(index)\n",
    "        \n",
    "ind = np.asarray(ind)\n",
    "new_historical_stock_prices = historical_stock_prices.drop(ind)"
   ]
  },
  {
   "cell_type": "code",
   "execution_count": 37,
   "metadata": {},
   "outputs": [
    {
     "data": {
      "text/plain": [
       "4774"
      ]
     },
     "execution_count": 37,
     "metadata": {},
     "output_type": "execute_result"
    }
   ],
   "source": [
    "new_historical_stock_prices[\"ticker\"].unique().size"
   ]
  },
  {
   "cell_type": "code",
   "execution_count": 38,
   "metadata": {},
   "outputs": [],
   "source": [
    "new_historical_stock_prices.to_csv(\"/Users/elisacatena/Desktop/historical_stock_prices.csv\", index=False)"
   ]
  },
  {
   "cell_type": "code",
   "execution_count": 39,
   "metadata": {},
   "outputs": [
    {
     "data": {
      "text/plain": [
       "4774"
      ]
     },
     "execution_count": 39,
     "metadata": {},
     "output_type": "execute_result"
    }
   ],
   "source": [
    "merged_data = pd.merge(new_historical_stock_prices, historical_stocks, on='ticker')\n",
    "\n",
    "\n",
    "merged_data.to_csv(\"/Users/elisacatena/Desktop/merged_data.csv\", index=False)\n",
    "\n",
    "merged_data[\"ticker\"].unique().size"
   ]
  },
  {
   "cell_type": "code",
   "execution_count": 40,
   "metadata": {},
   "outputs": [
    {
     "data": {
      "text/plain": [
       "ticker       0\n",
       "open         0\n",
       "close        0\n",
       "adj_close    0\n",
       "low          0\n",
       "high         0\n",
       "volume       0\n",
       "date         0\n",
       "exchange     0\n",
       "name         0\n",
       "sector       0\n",
       "industry     0\n",
       "dtype: int64"
      ]
     },
     "execution_count": 40,
     "metadata": {},
     "output_type": "execute_result"
    }
   ],
   "source": [
    "merged_data.isnull().sum()"
   ]
  }
 ],
 "metadata": {
  "kernelspec": {
   "display_name": "Python 3",
   "language": "python",
   "name": "python3"
  },
  "language_info": {
   "codemirror_mode": {
    "name": "ipython",
    "version": 3
   },
   "file_extension": ".py",
   "mimetype": "text/x-python",
   "name": "python",
   "nbconvert_exporter": "python",
   "pygments_lexer": "ipython3",
   "version": "3.10.8"
  }
 },
 "nbformat": 4,
 "nbformat_minor": 4
}
